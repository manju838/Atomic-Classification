{
  "nbformat": 4,
  "nbformat_minor": 0,
  "metadata": {
    "colab": {
      "name": "Atomic Classification.ipynb",
      "provenance": [],
      "collapsed_sections": []
    },
    "kernelspec": {
      "name": "python3",
      "display_name": "Python 3"
    },
    "accelerator": "GPU"
  },
  "cells": [
    {
      "cell_type": "code",
      "metadata": {
        "id": "oll8DPZ8GVvP"
      },
      "source": [
        "import numpy as np\n",
        "import pandas as pd\n",
        "import re\n",
        "import math\n",
        "import tensorflow as tf"
      ],
      "execution_count": null,
      "outputs": []
    },
    {
      "cell_type": "code",
      "metadata": {
        "colab": {
          "base_uri": "https://localhost:8080/"
        },
        "id": "dlwjDARqZxiY",
        "outputId": "fb4ee5bb-87f9-4ab4-d192-0ebbd6491469"
      },
      "source": [
        "from google.colab import drive\n",
        "drive.mount('/content/drive')"
      ],
      "execution_count": null,
      "outputs": [
        {
          "output_type": "stream",
          "text": [
            "Mounted at /content/drive\n"
          ],
          "name": "stdout"
        }
      ]
    },
    {
      "cell_type": "markdown",
      "metadata": {
        "id": "Rc-1jW6DT-v5"
      },
      "source": [
        "Load Parameters of Elements"
      ]
    },
    {
      "cell_type": "code",
      "metadata": {
        "id": "qjydcAe2yBcp",
        "colab": {
          "base_uri": "https://localhost:8080/",
          "height": 206
        },
        "outputId": "048fc88f-ded9-4d09-82cc-d0e74439dec0"
      },
      "source": [
        "param = pd.read_csv(\"/content/drive/MyDrive/Mendeley Dataset/New_Folder/final_dataset_parameters.csv\")\n",
        "param.head()\n"
      ],
      "execution_count": null,
      "outputs": [
        {
          "output_type": "execute_result",
          "data": {
            "text/html": [
              "<div>\n",
              "<style scoped>\n",
              "    .dataframe tbody tr th:only-of-type {\n",
              "        vertical-align: middle;\n",
              "    }\n",
              "\n",
              "    .dataframe tbody tr th {\n",
              "        vertical-align: top;\n",
              "    }\n",
              "\n",
              "    .dataframe thead th {\n",
              "        text-align: right;\n",
              "    }\n",
              "</style>\n",
              "<table border=\"1\" class=\"dataframe\">\n",
              "  <thead>\n",
              "    <tr style=\"text-align: right;\">\n",
              "      <th></th>\n",
              "      <th>Unnamed: 0</th>\n",
              "      <th>mp</th>\n",
              "      <th>enthalphy</th>\n",
              "      <th>en</th>\n",
              "      <th>ar</th>\n",
              "    </tr>\n",
              "  </thead>\n",
              "  <tbody>\n",
              "    <tr>\n",
              "      <th>0</th>\n",
              "      <td>Ag</td>\n",
              "      <td>961.780</td>\n",
              "      <td>11.30</td>\n",
              "      <td>1.93</td>\n",
              "      <td>1.72</td>\n",
              "    </tr>\n",
              "    <tr>\n",
              "      <th>1</th>\n",
              "      <td>Al</td>\n",
              "      <td>660.323</td>\n",
              "      <td>10.70</td>\n",
              "      <td>1.61</td>\n",
              "      <td>1.84</td>\n",
              "    </tr>\n",
              "    <tr>\n",
              "      <th>2</th>\n",
              "      <td>Au</td>\n",
              "      <td>1064.180</td>\n",
              "      <td>12.50</td>\n",
              "      <td>2.54</td>\n",
              "      <td>1.66</td>\n",
              "    </tr>\n",
              "    <tr>\n",
              "      <th>3</th>\n",
              "      <td>B</td>\n",
              "      <td>2075.000</td>\n",
              "      <td>50.00</td>\n",
              "      <td>2.04</td>\n",
              "      <td>1.92</td>\n",
              "    </tr>\n",
              "    <tr>\n",
              "      <th>4</th>\n",
              "      <td>Be</td>\n",
              "      <td>1287.000</td>\n",
              "      <td>7.95</td>\n",
              "      <td>1.57</td>\n",
              "      <td>1.53</td>\n",
              "    </tr>\n",
              "  </tbody>\n",
              "</table>\n",
              "</div>"
            ],
            "text/plain": [
              "  Unnamed: 0        mp  enthalphy    en    ar\n",
              "0         Ag   961.780      11.30  1.93  1.72\n",
              "1         Al   660.323      10.70  1.61  1.84\n",
              "2         Au  1064.180      12.50  2.54  1.66\n",
              "3          B  2075.000      50.00  2.04  1.92\n",
              "4         Be  1287.000       7.95  1.57  1.53"
            ]
          },
          "metadata": {},
          "execution_count": 3
        }
      ]
    },
    {
      "cell_type": "code",
      "metadata": {
        "colab": {
          "base_uri": "https://localhost:8080/"
        },
        "id": "OzBLoxNWRYb6",
        "outputId": "c9c1c9e4-015f-420d-c8b1-9fb5bcc6c299"
      },
      "source": [
        "param.columns"
      ],
      "execution_count": null,
      "outputs": [
        {
          "output_type": "execute_result",
          "data": {
            "text/plain": [
              "Index(['Unnamed: 0', 'mp', 'enthalphy', 'en', 'ar'], dtype='object')"
            ]
          },
          "metadata": {},
          "execution_count": 4
        }
      ]
    },
    {
      "cell_type": "code",
      "metadata": {
        "id": "3bqNsCN5Qt7S"
      },
      "source": [
        "param.set_index('Unnamed: 0', drop=True, inplace=True)\n",
        "pm = param.to_dict(orient=\"index\")"
      ],
      "execution_count": null,
      "outputs": []
    },
    {
      "cell_type": "code",
      "metadata": {
        "colab": {
          "base_uri": "https://localhost:8080/"
        },
        "id": "ls5XWoEMRf5m",
        "outputId": "9f62ae45-cd2d-49fb-bc0d-0ce8e730b549"
      },
      "source": [
        "pm"
      ],
      "execution_count": null,
      "outputs": [
        {
          "output_type": "execute_result",
          "data": {
            "text/plain": [
              "{'Ag': {'ar': 1.72, 'en': 1.93, 'enthalphy': 11.3, 'mp': 961.78},\n",
              " 'Al': {'ar': 1.84, 'en': 1.61, 'enthalphy': 10.7, 'mp': 660.323},\n",
              " 'Au': {'ar': 1.66, 'en': 2.54, 'enthalphy': 12.5, 'mp': 1064.18},\n",
              " 'B': {'ar': 1.92, 'en': 2.04, 'enthalphy': 50.0, 'mp': 2075.0},\n",
              " 'Ba': {'ar': 2.68, 'en': 0.89, 'enthalphy': 8.0, 'mp': 727.0},\n",
              " 'Be': {'ar': 1.53, 'en': 1.57, 'enthalphy': 7.95, 'mp': 1287.0},\n",
              " 'C': {'ar': 1.7, 'en': 2.55, 'enthalphy': 105.0, 'mp': 3550.0},\n",
              " 'Ca': {'ar': 2.31, 'en': 1.0, 'enthalphy': 8.53, 'mp': 842.0},\n",
              " 'Ce': {'ar': 2.35, 'en': 1.12, 'enthalphy': 5.5, 'mp': 798.0},\n",
              " 'Co': {'ar': 1.92, 'en': 1.88, 'enthalphy': 16.2, 'mp': 1495.0},\n",
              " 'Cr': {'ar': 1.89, 'en': 1.66, 'enthalphy': 20.5, 'mp': 1907.0},\n",
              " 'Cu': {'ar': 1.4, 'en': 1.9, 'enthalphy': 13.1, 'mp': 1084.62},\n",
              " 'Dy': {'ar': 2.29, 'en': 1.22, 'enthalphy': 11.1, 'mp': 1412.0},\n",
              " 'Er': {'ar': 2.35, 'en': 1.24, 'enthalphy': 19.9, 'mp': 1529.0},\n",
              " 'Fe': {'ar': 1.94, 'en': 1.83, 'enthalphy': 13.8, 'mp': 1538.0},\n",
              " 'Ga': {'ar': 1.87, 'en': 1.81, 'enthalphy': 5.59, 'mp': 29.76},\n",
              " 'Gd': {'ar': 2.37, 'en': 1.2, 'enthalphy': 10.0, 'mp': 1313.0},\n",
              " 'Hf': {'ar': 2.12, 'en': 1.3, 'enthalphy': 25.5, 'mp': 2233.0},\n",
              " 'Ho': {'ar': 2.16, 'en': 1.23, 'enthalphy': 17.0, 'mp': 1474.0},\n",
              " 'In': {'ar': 1.93, 'en': 1.78, 'enthalphy': 3.26, 'mp': 156.6},\n",
              " 'Ir': {'ar': 2.02, 'en': 2.2, 'enthalphy': 26.0, 'mp': 2446.0},\n",
              " 'La': {'ar': 2.4, 'en': 1.1, 'enthalphy': 6.3, 'mp': 918.0},\n",
              " 'Li': {'ar': 1.82, 'en': 0.98, 'enthalphy': 3.0, 'mp': 180.5},\n",
              " 'Lu': {'ar': 2.21, 'en': 1.27, 'enthalphy': 22.0, 'mp': 1652.0},\n",
              " 'Mg': {'ar': 1.73, 'en': 1.31, 'enthalphy': 8.7, 'mp': 650.0},\n",
              " 'Mn': {'ar': 1.97, 'en': 1.55, 'enthalphy': 13.2, 'mp': 1246.0},\n",
              " 'Mo': {'ar': 2.09, 'en': 2.16, 'enthalphy': 36.0, 'mp': 2623.0},\n",
              " 'Nb': {'ar': 2.07, 'en': 1.6, 'enthalphy': 26.8, 'mp': 2477.0},\n",
              " 'Nd': {'ar': 2.29, 'en': 1.14, 'enthalphy': 7.1, 'mp': 1024.0},\n",
              " 'Ni': {'ar': 1.63, 'en': 1.91, 'enthalphy': 17.2, 'mp': 1455.0},\n",
              " 'P': {'ar': 1.8, 'en': 2.19, 'enthalphy': 0.64, 'mp': 44.15},\n",
              " 'Pb': {'ar': 2.02, 'en': 2.33, 'enthalphy': 4.77, 'mp': 327.46},\n",
              " 'Pd': {'ar': 2.02, 'en': 2.2, 'enthalphy': 16.0, 'mp': 1554.9},\n",
              " 'Pr': {'ar': 2.39, 'en': 1.13, 'enthalphy': 6.9, 'mp': 935.0},\n",
              " 'Pt': {'ar': 2.09, 'en': 2.28, 'enthalphy': 20.0, 'mp': 1768.3},\n",
              " 'Rh': {'ar': 1.95, 'en': 2.28, 'enthalphy': 21.7, 'mp': 1964.0},\n",
              " 'Ru': {'ar': 2.07, 'en': 2.2, 'enthalphy': 25.7, 'mp': 2334.0},\n",
              " 'Sb': {'ar': 2.06, 'en': 2.05, 'enthalphy': 19.7, 'mp': 630.63},\n",
              " 'Sc': {'ar': 2.11, 'en': 1.36, 'enthalphy': 16.0, 'mp': 1541.0},\n",
              " 'Si': {'ar': 2.1, 'en': 1.9, 'enthalphy': 50.2, 'mp': 1414.0},\n",
              " 'Sm': {'ar': 2.29, 'en': 1.17, 'enthalphy': 8.5, 'mp': 1072.0},\n",
              " 'Sn': {'ar': 2.17, 'en': 1.96, 'enthalphy': 7.0, 'mp': 231.93},\n",
              " 'Sr': {'ar': 2.49, 'en': 0.95, 'enthalphy': 8.0, 'mp': 777.0},\n",
              " 'Ta': {'ar': 2.17, 'en': 1.5, 'enthalphy': 36.0, 'mp': 3017.0},\n",
              " 'Tb': {'ar': 2.21, 'en': 1.2, 'enthalphy': 10.8, 'mp': 1356.0},\n",
              " 'Ti': {'ar': 1.87, 'en': 1.54, 'enthalphy': 18.7, 'mp': 1668.0},\n",
              " 'Tm': {'ar': 2.27, 'en': 1.25, 'enthalphy': 16.8, 'mp': 1545.0},\n",
              " 'U': {'ar': 2.4, 'en': 1.38, 'enthalphy': 14.0, 'mp': 1133.0},\n",
              " 'V': {'ar': 1.79, 'en': 1.63, 'enthalphy': 22.8, 'mp': 1910.0},\n",
              " 'W': {'ar': 2.1, 'en': 2.36, 'enthalphy': 35.0, 'mp': 3422.0},\n",
              " 'Y': {'ar': 2.19, 'en': 1.22, 'enthalphy': 11.4, 'mp': 1526.0},\n",
              " 'Yb': {'ar': 2.42, 'en': 1.1, 'enthalphy': 7.7, 'mp': 819.0},\n",
              " 'Zn': {'ar': 1.39, 'en': 1.65, 'enthalphy': 7.35, 'mp': 419.5},\n",
              " 'Zr': {'ar': 1.86, 'en': 1.33, 'enthalphy': 21.0, 'mp': 1855.0}}"
            ]
          },
          "metadata": {},
          "execution_count": 6
        }
      ]
    },
    {
      "cell_type": "code",
      "metadata": {
        "colab": {
          "base_uri": "https://localhost:8080/"
        },
        "id": "P0-y8OwpdIDC",
        "outputId": "02fc136b-4e9f-4cf5-bbeb-11b163112c37"
      },
      "source": [
        "len(pm)"
      ],
      "execution_count": null,
      "outputs": [
        {
          "output_type": "execute_result",
          "data": {
            "text/plain": [
              "54"
            ]
          },
          "metadata": {},
          "execution_count": 7
        }
      ]
    },
    {
      "cell_type": "code",
      "metadata": {
        "id": "XdeZetp-NDYf"
      },
      "source": [
        "def diff(x):\n",
        "\n",
        "  #making ranges for each atom\n",
        "  ranges = {}\n",
        "  for i in x:\n",
        "    ranges[i] = 0.88*pm[i]['ar']\n",
        "  \n",
        "  #compiling scoring matrix\n",
        "  score = {}\n",
        "  \n",
        "  for i in x:\n",
        "    dct = {}\n",
        "    for j in x:\n",
        "      if pm[i]['ar']<ranges[j]:\n",
        "        dct[j] = -1\n",
        "      elif pm[i]['ar']>pm[j]['ar']:\n",
        "        dct[j] = 1\n",
        "      else :\n",
        "        dct[j] = 0\n",
        "          \n",
        "    score[i] = dct\n",
        "    \n",
        "  b = []\n",
        "  sm = []\n",
        "  #separating into big and small based on scoring matrix\n",
        "  for i in score:\n",
        "    sum = 0\n",
        "    for j in score[i]:\n",
        "      sum = sum+score[i][j]\n",
        "      \n",
        "    if(sum>0):\n",
        "      b.append(i)\n",
        "    else: \n",
        "      sm.append(i)\n",
        "      \n",
        "  if len(b)==0 or len(sm)==0:\n",
        "    print(score)\n",
        "  return b,sm"
      ],
      "execution_count": null,
      "outputs": []
    },
    {
      "cell_type": "code",
      "metadata": {
        "id": "N3TqU9vaUwca"
      },
      "source": [
        "#finds the paramater deltaE\n",
        "def electro(all,x):\n",
        "  k =0 #summation of product of composition and electro negativity\n",
        "  p = 0 #summation of compositions\n",
        "\n",
        "  for i in all:\n",
        "    if i in x:\n",
        "      p = p+all[i]\n",
        "  for i in all:\n",
        "    if i in x:\n",
        "      k = k+all[i]*pm[i]['en']\n",
        "  \n",
        "  return k/p"
      ],
      "execution_count": null,
      "outputs": []
    },
    {
      "cell_type": "code",
      "metadata": {
        "id": "dMBuMH6cTox0"
      },
      "source": [
        "#finds the paramater deltaD\n",
        "def comps(all,x):\n",
        "  k =0 #summation of product of composition and atomic radii\n",
        "  p = 0 #summation of compositions\n",
        "\n",
        "  for i in all:\n",
        "    if i in x:\n",
        "      p = p+all[i]\n",
        "  for i in all:\n",
        "    if i in x:\n",
        "      k = k+all[i]*pm[i]['ar']\n",
        "  \n",
        "  return k/p"
      ],
      "execution_count": null,
      "outputs": []
    },
    {
      "cell_type": "code",
      "metadata": {
        "id": "XEQmlHGENoJ1"
      },
      "source": [
        "def prepare_params(x):\n",
        "  #Seperating atoms from composition\n",
        "  s = re.sub(r'[^\\w\\s]','',x)\n",
        "  s = re.sub('\\d',' ',s)\n",
        "  els = np.array([i for i in s.split(' ') if i in pm]) # elements list\n",
        "  # print('\\nElements in BMG are : ', els)\n",
        "  \n",
        "  comp = re.findall(r\"[-+]?\\d*\\.\\d+|\\d+\",x)\n",
        "  comp = [float(i) for i in comp]\n",
        "  # print('Compositions: ',comp)\n",
        "  \n",
        "  dcomp = dict(zip(els,comp))\n",
        "  smix = 0\n",
        "  hmix = 0\n",
        "\n",
        "  for i in dcomp:\n",
        "    smix = smix + (dcomp[i]/100)*(math.log((dcomp[i]/100)))\n",
        "    hmix = hmix + (dcomp[i]/100)*pm[i]['enthalphy']\n",
        "  smix = -1*smix\n",
        "\n",
        "  big,small = diff(els)\n",
        "  # print(\"big atoms : \",big)\n",
        "  # print(\"small atoms : \",small)\n",
        "\n",
        "\n",
        "\n",
        "  rad = (comps(dcomp,big)-comps(dcomp,small))/(comps(dcomp,big))\n",
        "\n",
        "  en = (electro(dcomp,big)-electro(dcomp,small))/(electro(dcomp,big)+electro(dcomp,small))\n",
        "\n",
        "\n",
        "  return [hmix,smix,rad,en,els[np.argmax(comp)]]"
      ],
      "execution_count": null,
      "outputs": []
    },
    {
      "cell_type": "code",
      "metadata": {
        "colab": {
          "base_uri": "https://localhost:8080/"
        },
        "id": "67gnGZI8SbVn",
        "outputId": "9b49b890-cb7e-4a91-8f22-0e11e3f7182d"
      },
      "source": [
        "prepare_params('Mg61.5Cu29.5Gd9')"
      ],
      "execution_count": null,
      "outputs": [
        {
          "output_type": "execute_result",
          "data": {
            "text/plain": [
              "[10.115, 0.8758169838311579, 0.3151805999907267, -0.11152696133270965, 'Mg']"
            ]
          },
          "metadata": {},
          "execution_count": 14
        }
      ]
    },
    {
      "cell_type": "code",
      "metadata": {
        "colab": {
          "base_uri": "https://localhost:8080/",
          "height": 206
        },
        "id": "jJaB5FcnSbYz",
        "outputId": "f0b2c3e5-133a-44f8-f3be-90514c5f9f9f"
      },
      "source": [
        "data = pd.read_csv(\"/content/drive/MyDrive/Mendeley Dataset/New_Folder/balanced_da.csv\")\n",
        "data.head()"
      ],
      "execution_count": null,
      "outputs": [
        {
          "output_type": "execute_result",
          "data": {
            "text/html": [
              "<div>\n",
              "<style scoped>\n",
              "    .dataframe tbody tr th:only-of-type {\n",
              "        vertical-align: middle;\n",
              "    }\n",
              "\n",
              "    .dataframe tbody tr th {\n",
              "        vertical-align: top;\n",
              "    }\n",
              "\n",
              "    .dataframe thead th {\n",
              "        text-align: right;\n",
              "    }\n",
              "</style>\n",
              "<table border=\"1\" class=\"dataframe\">\n",
              "  <thead>\n",
              "    <tr style=\"text-align: right;\">\n",
              "      <th></th>\n",
              "      <th>Alloy_Formula</th>\n",
              "      <th>D_max</th>\n",
              "      <th>Phase</th>\n",
              "    </tr>\n",
              "  </thead>\n",
              "  <tbody>\n",
              "    <tr>\n",
              "      <th>0</th>\n",
              "      <td>Al33.6Ca66.4</td>\n",
              "      <td>1.0</td>\n",
              "      <td>BMG</td>\n",
              "    </tr>\n",
              "    <tr>\n",
              "      <th>1</th>\n",
              "      <td>Cu46Zr54</td>\n",
              "      <td>2.0</td>\n",
              "      <td>BMG</td>\n",
              "    </tr>\n",
              "    <tr>\n",
              "      <th>2</th>\n",
              "      <td>Cu50Zr50</td>\n",
              "      <td>2.0</td>\n",
              "      <td>BMG</td>\n",
              "    </tr>\n",
              "    <tr>\n",
              "      <th>3</th>\n",
              "      <td>Cu64Zr36</td>\n",
              "      <td>2.0</td>\n",
              "      <td>BMG</td>\n",
              "    </tr>\n",
              "    <tr>\n",
              "      <th>4</th>\n",
              "      <td>Ni60Nb40</td>\n",
              "      <td>1.0</td>\n",
              "      <td>BMG</td>\n",
              "    </tr>\n",
              "  </tbody>\n",
              "</table>\n",
              "</div>"
            ],
            "text/plain": [
              "  Alloy_Formula  D_max Phase\n",
              "0  Al33.6Ca66.4    1.0   BMG\n",
              "1      Cu46Zr54    2.0   BMG\n",
              "2      Cu50Zr50    2.0   BMG\n",
              "3      Cu64Zr36    2.0   BMG\n",
              "4      Ni60Nb40    1.0   BMG"
            ]
          },
          "metadata": {},
          "execution_count": 18
        }
      ]
    },
    {
      "cell_type": "code",
      "metadata": {
        "colab": {
          "base_uri": "https://localhost:8080/"
        },
        "id": "NSjzwuueUG1c",
        "outputId": "5c4a778a-c7c1-4501-aee1-977186207dd9"
      },
      "source": [
        "j = 0\n",
        "h_mix = []\n",
        "s_mix = []\n",
        "delta_d = []\n",
        "delta_e = []\n",
        "Dominant_element = []\n",
        "for i in range(data.shape[0]):\n",
        "  # print(i)\n",
        "  # print(type(i))\n",
        "  \n",
        "  try:\n",
        "    hmix,smix,rad,en,dom = prepare_params(data.iloc[i][0]);\n",
        "    h_mix.append(hmix)\n",
        "    s_mix.append(smix)\n",
        "    delta_d.append(rad)\n",
        "    delta_e.append(en)\n",
        "    Dominant_element.append(dom)\n",
        "  except:\n",
        "    print(\"failed to create params : \",data.iloc[i][0])\n",
        "    j = j + 1\n",
        "print(\"Removed due to same atomic radius\",j)\n"
      ],
      "execution_count": null,
      "outputs": [
        {
          "output_type": "stream",
          "text": [
            "Removed due to same atomic radius 0\n"
          ],
          "name": "stdout"
        }
      ]
    },
    {
      "cell_type": "code",
      "metadata": {
        "id": "n-JidP_LUG4O"
      },
      "source": [
        "data[\"h_mix\"] = h_mix\n",
        "data[\"s_mix\"] = s_mix \n",
        "data[\"delta_d\"] = delta_d\n",
        "data[\"delta_e\"] = delta_e\n",
        "data[\"Dominant_element\"] = Dominant_element"
      ],
      "execution_count": null,
      "outputs": []
    },
    {
      "cell_type": "code",
      "metadata": {
        "colab": {
          "base_uri": "https://localhost:8080/",
          "height": 206
        },
        "id": "bB0funEwUG-G",
        "outputId": "e9d0d98b-e9fb-4adf-9da0-7434c086d199"
      },
      "source": [
        "data.head()"
      ],
      "execution_count": null,
      "outputs": [
        {
          "output_type": "execute_result",
          "data": {
            "text/html": [
              "<div>\n",
              "<style scoped>\n",
              "    .dataframe tbody tr th:only-of-type {\n",
              "        vertical-align: middle;\n",
              "    }\n",
              "\n",
              "    .dataframe tbody tr th {\n",
              "        vertical-align: top;\n",
              "    }\n",
              "\n",
              "    .dataframe thead th {\n",
              "        text-align: right;\n",
              "    }\n",
              "</style>\n",
              "<table border=\"1\" class=\"dataframe\">\n",
              "  <thead>\n",
              "    <tr style=\"text-align: right;\">\n",
              "      <th></th>\n",
              "      <th>Alloy_Formula</th>\n",
              "      <th>D_max</th>\n",
              "      <th>Phase</th>\n",
              "      <th>h_mix</th>\n",
              "      <th>s_mix</th>\n",
              "      <th>delta_d</th>\n",
              "      <th>delta_e</th>\n",
              "      <th>Dominant_element</th>\n",
              "    </tr>\n",
              "  </thead>\n",
              "  <tbody>\n",
              "    <tr>\n",
              "      <th>0</th>\n",
              "      <td>Al33.6Ca66.4</td>\n",
              "      <td>1.0</td>\n",
              "      <td>BMG</td>\n",
              "      <td>9.25912</td>\n",
              "      <td>0.638347</td>\n",
              "      <td>0.203463</td>\n",
              "      <td>-0.233716</td>\n",
              "      <td>Ca</td>\n",
              "    </tr>\n",
              "    <tr>\n",
              "      <th>1</th>\n",
              "      <td>Cu46Zr54</td>\n",
              "      <td>2.0</td>\n",
              "      <td>BMG</td>\n",
              "      <td>17.36600</td>\n",
              "      <td>0.689944</td>\n",
              "      <td>0.247312</td>\n",
              "      <td>-0.176471</td>\n",
              "      <td>Zr</td>\n",
              "    </tr>\n",
              "    <tr>\n",
              "      <th>2</th>\n",
              "      <td>Cu50Zr50</td>\n",
              "      <td>2.0</td>\n",
              "      <td>BMG</td>\n",
              "      <td>17.05000</td>\n",
              "      <td>0.693147</td>\n",
              "      <td>0.247312</td>\n",
              "      <td>-0.176471</td>\n",
              "      <td>Cu</td>\n",
              "    </tr>\n",
              "    <tr>\n",
              "      <th>3</th>\n",
              "      <td>Cu64Zr36</td>\n",
              "      <td>2.0</td>\n",
              "      <td>BMG</td>\n",
              "      <td>15.94400</td>\n",
              "      <td>0.653418</td>\n",
              "      <td>0.247312</td>\n",
              "      <td>-0.176471</td>\n",
              "      <td>Cu</td>\n",
              "    </tr>\n",
              "    <tr>\n",
              "      <th>4</th>\n",
              "      <td>Ni60Nb40</td>\n",
              "      <td>1.0</td>\n",
              "      <td>BMG</td>\n",
              "      <td>21.04000</td>\n",
              "      <td>0.673012</td>\n",
              "      <td>0.212560</td>\n",
              "      <td>-0.088319</td>\n",
              "      <td>Ni</td>\n",
              "    </tr>\n",
              "  </tbody>\n",
              "</table>\n",
              "</div>"
            ],
            "text/plain": [
              "  Alloy_Formula  D_max Phase  ...   delta_d   delta_e  Dominant_element\n",
              "0  Al33.6Ca66.4    1.0   BMG  ...  0.203463 -0.233716                Ca\n",
              "1      Cu46Zr54    2.0   BMG  ...  0.247312 -0.176471                Zr\n",
              "2      Cu50Zr50    2.0   BMG  ...  0.247312 -0.176471                Cu\n",
              "3      Cu64Zr36    2.0   BMG  ...  0.247312 -0.176471                Cu\n",
              "4      Ni60Nb40    1.0   BMG  ...  0.212560 -0.088319                Ni\n",
              "\n",
              "[5 rows x 8 columns]"
            ]
          },
          "metadata": {},
          "execution_count": 21
        }
      ]
    },
    {
      "cell_type": "code",
      "metadata": {
        "id": "ldyYDO_ifzB_"
      },
      "source": [
        ""
      ],
      "execution_count": null,
      "outputs": []
    }
  ]
}